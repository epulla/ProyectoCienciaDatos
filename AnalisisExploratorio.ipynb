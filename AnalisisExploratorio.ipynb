{
 "cells": [
  {
   "cell_type": "markdown",
   "metadata": {},
   "source": [
    "# Análisis Exploratorio\n",
    "Grupo: Biblion'Data <br/>\n",
    "Integrantes:\n",
    "- Luis Fiallos\n",
    "- Eddy Calderón\n",
    "- Erick Pulla"
   ]
  },
  {
   "cell_type": "code",
   "execution_count": 1,
   "metadata": {},
   "outputs": [],
   "source": [
    "import pandas as pd\n",
    "import seaborn as sns\n",
    "import matplotlib.pyplot as plt\n",
    "%matplotlib inline"
   ]
  },
  {
   "cell_type": "code",
   "execution_count": 2,
   "metadata": {},
   "outputs": [],
   "source": [
    "df = pd.read_csv('papersDataScience.csv')"
   ]
  },
  {
   "cell_type": "markdown",
   "metadata": {},
   "source": [
    "## Exploración del Dataset"
   ]
  },
  {
   "cell_type": "code",
   "execution_count": 3,
   "metadata": {},
   "outputs": [
    {
     "data": {
      "text/html": [
       "<div>\n",
       "<style scoped>\n",
       "    .dataframe tbody tr th:only-of-type {\n",
       "        vertical-align: middle;\n",
       "    }\n",
       "\n",
       "    .dataframe tbody tr th {\n",
       "        vertical-align: top;\n",
       "    }\n",
       "\n",
       "    .dataframe thead th {\n",
       "        text-align: right;\n",
       "    }\n",
       "</style>\n",
       "<table border=\"1\" class=\"dataframe\">\n",
       "  <thead>\n",
       "    <tr style=\"text-align: right;\">\n",
       "      <th></th>\n",
       "      <th>eid</th>\n",
       "      <th>doi</th>\n",
       "      <th>pii</th>\n",
       "      <th>pubmed_id</th>\n",
       "      <th>title</th>\n",
       "      <th>subtype</th>\n",
       "      <th>subtypeDescription</th>\n",
       "      <th>creator</th>\n",
       "      <th>afid</th>\n",
       "      <th>affilname</th>\n",
       "      <th>...</th>\n",
       "      <th>pageRange</th>\n",
       "      <th>description</th>\n",
       "      <th>authkeywords</th>\n",
       "      <th>citedby_count</th>\n",
       "      <th>openaccess</th>\n",
       "      <th>fund_acr</th>\n",
       "      <th>fund_no</th>\n",
       "      <th>fund_sponsor</th>\n",
       "      <th>topic</th>\n",
       "      <th>year</th>\n",
       "    </tr>\n",
       "  </thead>\n",
       "  <tbody>\n",
       "    <tr>\n",
       "      <th>0</th>\n",
       "      <td>2-s2.0-85104204626</td>\n",
       "      <td>10.1525/cse.2018.001552</td>\n",
       "      <td>NaN</td>\n",
       "      <td>NaN</td>\n",
       "      <td>Returning water data to communities in Ndola, ...</td>\n",
       "      <td>ar</td>\n",
       "      <td>Article</td>\n",
       "      <td>Chitondo M.</td>\n",
       "      <td>60020585</td>\n",
       "      <td>University of Canterbury</td>\n",
       "      <td>...</td>\n",
       "      <td>NaN</td>\n",
       "      <td>Many scientific research projects carried out ...</td>\n",
       "      <td>NaN</td>\n",
       "      <td>0</td>\n",
       "      <td>0</td>\n",
       "      <td>UC</td>\n",
       "      <td>undefined</td>\n",
       "      <td>University of Canterbury</td>\n",
       "      <td>DataScience</td>\n",
       "      <td>2019</td>\n",
       "    </tr>\n",
       "    <tr>\n",
       "      <th>1</th>\n",
       "      <td>2-s2.0-85104191635</td>\n",
       "      <td>10.1525/cse.2018.001578</td>\n",
       "      <td>NaN</td>\n",
       "      <td>NaN</td>\n",
       "      <td>Ignoring quantitative reasoning: The initial e...</td>\n",
       "      <td>ar</td>\n",
       "      <td>Article</td>\n",
       "      <td>Bothun G.D.</td>\n",
       "      <td>60012317</td>\n",
       "      <td>University of Oregon</td>\n",
       "      <td>...</td>\n",
       "      <td>NaN</td>\n",
       "      <td>The initial estimate of the flow rate of now l...</td>\n",
       "      <td>NaN</td>\n",
       "      <td>0</td>\n",
       "      <td>0</td>\n",
       "      <td>NaN</td>\n",
       "      <td>undefined</td>\n",
       "      <td>NaN</td>\n",
       "      <td>DataScience</td>\n",
       "      <td>2019</td>\n",
       "    </tr>\n",
       "    <tr>\n",
       "      <th>2</th>\n",
       "      <td>2-s2.0-85091697725</td>\n",
       "      <td>10.1093/poq/nfz050</td>\n",
       "      <td>NaN</td>\n",
       "      <td>NaN</td>\n",
       "      <td>Erratum: The polls-trends: Americans' trust in...</td>\n",
       "      <td>er</td>\n",
       "      <td>Erratum</td>\n",
       "      <td>Krause N.M.</td>\n",
       "      <td>NaN</td>\n",
       "      <td>NaN</td>\n",
       "      <td>...</td>\n",
       "      <td>181</td>\n",
       "      <td>In the article “The Polls-Trends: Americans' T...</td>\n",
       "      <td>NaN</td>\n",
       "      <td>0</td>\n",
       "      <td>0</td>\n",
       "      <td>NaN</td>\n",
       "      <td>undefined</td>\n",
       "      <td>NaN</td>\n",
       "      <td>DataScience</td>\n",
       "      <td>2019</td>\n",
       "    </tr>\n",
       "    <tr>\n",
       "      <th>3</th>\n",
       "      <td>2-s2.0-85091392304</td>\n",
       "      <td>10.22478/ufpb.1809-4783.2019v29n4.50113</td>\n",
       "      <td>NaN</td>\n",
       "      <td>NaN</td>\n",
       "      <td>Open access in question: New agendas and chall...</td>\n",
       "      <td>re</td>\n",
       "      <td>Review</td>\n",
       "      <td>Appel A.L.</td>\n",
       "      <td>60007639;60000036</td>\n",
       "      <td>Instituto Brasileiro de Informacao Em Ciencia ...</td>\n",
       "      <td>...</td>\n",
       "      <td>187-208</td>\n",
       "      <td>After almost twenty years of the Budapest Open...</td>\n",
       "      <td>Open access | Open science | Platforms | Schol...</td>\n",
       "      <td>0</td>\n",
       "      <td>1</td>\n",
       "      <td>FAPERJ</td>\n",
       "      <td>E-26/201.428/2014</td>\n",
       "      <td>Fundação Carlos Chagas Filho de Amparo à Pesqu...</td>\n",
       "      <td>DataScience</td>\n",
       "      <td>2019</td>\n",
       "    </tr>\n",
       "    <tr>\n",
       "      <th>4</th>\n",
       "      <td>2-s2.0-85091384820</td>\n",
       "      <td>10.22478/ufpb.1809-4783.2019v29n4.47536</td>\n",
       "      <td>NaN</td>\n",
       "      <td>NaN</td>\n",
       "      <td>Interdisciplinarity in data science over big d...</td>\n",
       "      <td>ar</td>\n",
       "      <td>Article</td>\n",
       "      <td>Pinto V.A.</td>\n",
       "      <td>60033296;60008088;60006429;60000036</td>\n",
       "      <td>Universidade FUMEC;Universidade de Sao Paulo -...</td>\n",
       "      <td>...</td>\n",
       "      <td>61-74</td>\n",
       "      <td>Data Science and Big Data are leveraged by bus...</td>\n",
       "      <td>Big data | Data science | Interdisciplinarity ...</td>\n",
       "      <td>0</td>\n",
       "      <td>1</td>\n",
       "      <td>NaN</td>\n",
       "      <td>undefined</td>\n",
       "      <td>NaN</td>\n",
       "      <td>DataScience</td>\n",
       "      <td>2019</td>\n",
       "    </tr>\n",
       "  </tbody>\n",
       "</table>\n",
       "<p>5 rows × 36 columns</p>\n",
       "</div>"
      ],
      "text/plain": [
       "                  eid                                      doi  pii  \\\n",
       "0  2-s2.0-85104204626                  10.1525/cse.2018.001552  NaN   \n",
       "1  2-s2.0-85104191635                  10.1525/cse.2018.001578  NaN   \n",
       "2  2-s2.0-85091697725                       10.1093/poq/nfz050  NaN   \n",
       "3  2-s2.0-85091392304  10.22478/ufpb.1809-4783.2019v29n4.50113  NaN   \n",
       "4  2-s2.0-85091384820  10.22478/ufpb.1809-4783.2019v29n4.47536  NaN   \n",
       "\n",
       "   pubmed_id                                              title subtype  \\\n",
       "0        NaN  Returning water data to communities in Ndola, ...      ar   \n",
       "1        NaN  Ignoring quantitative reasoning: The initial e...      ar   \n",
       "2        NaN  Erratum: The polls-trends: Americans' trust in...      er   \n",
       "3        NaN  Open access in question: New agendas and chall...      re   \n",
       "4        NaN  Interdisciplinarity in data science over big d...      ar   \n",
       "\n",
       "  subtypeDescription      creator                                 afid  \\\n",
       "0            Article  Chitondo M.                             60020585   \n",
       "1            Article  Bothun G.D.                             60012317   \n",
       "2            Erratum  Krause N.M.                                  NaN   \n",
       "3             Review   Appel A.L.                    60007639;60000036   \n",
       "4            Article   Pinto V.A.  60033296;60008088;60006429;60000036   \n",
       "\n",
       "                                           affilname  ... pageRange  \\\n",
       "0                           University of Canterbury  ...       NaN   \n",
       "1                               University of Oregon  ...       NaN   \n",
       "2                                                NaN  ...       181   \n",
       "3  Instituto Brasileiro de Informacao Em Ciencia ...  ...   187-208   \n",
       "4  Universidade FUMEC;Universidade de Sao Paulo -...  ...     61-74   \n",
       "\n",
       "                                         description  \\\n",
       "0  Many scientific research projects carried out ...   \n",
       "1  The initial estimate of the flow rate of now l...   \n",
       "2  In the article “The Polls-Trends: Americans' T...   \n",
       "3  After almost twenty years of the Budapest Open...   \n",
       "4  Data Science and Big Data are leveraged by bus...   \n",
       "\n",
       "                                        authkeywords citedby_count openaccess  \\\n",
       "0                                                NaN             0          0   \n",
       "1                                                NaN             0          0   \n",
       "2                                                NaN             0          0   \n",
       "3  Open access | Open science | Platforms | Schol...             0          1   \n",
       "4  Big data | Data science | Interdisciplinarity ...             0          1   \n",
       "\n",
       "  fund_acr            fund_no  \\\n",
       "0       UC          undefined   \n",
       "1      NaN          undefined   \n",
       "2      NaN          undefined   \n",
       "3   FAPERJ  E-26/201.428/2014   \n",
       "4      NaN          undefined   \n",
       "\n",
       "                                        fund_sponsor        topic  year  \n",
       "0                           University of Canterbury  DataScience  2019  \n",
       "1                                                NaN  DataScience  2019  \n",
       "2                                                NaN  DataScience  2019  \n",
       "3  Fundação Carlos Chagas Filho de Amparo à Pesqu...  DataScience  2019  \n",
       "4                                                NaN  DataScience  2019  \n",
       "\n",
       "[5 rows x 36 columns]"
      ]
     },
     "execution_count": 3,
     "metadata": {},
     "output_type": "execute_result"
    }
   ],
   "source": [
    "# Las primeras 5 rows del dataset\n",
    "df.head()"
   ]
  },
  {
   "cell_type": "code",
   "execution_count": 4,
   "metadata": {},
   "outputs": [
    {
     "name": "stdout",
     "output_type": "stream",
     "text": [
      "<class 'pandas.core.frame.DataFrame'>\n",
      "RangeIndex: 57573 entries, 0 to 57572\n",
      "Data columns (total 36 columns):\n",
      " #   Column               Non-Null Count  Dtype  \n",
      "---  ------               --------------  -----  \n",
      " 0   eid                  57573 non-null  object \n",
      " 1   doi                  52341 non-null  object \n",
      " 2   pii                  7417 non-null   object \n",
      " 3   pubmed_id            16945 non-null  float64\n",
      " 4   title                57573 non-null  object \n",
      " 5   subtype              57573 non-null  object \n",
      " 6   subtypeDescription   57418 non-null  object \n",
      " 7   creator              56690 non-null  object \n",
      " 8   afid                 55922 non-null  object \n",
      " 9   affilname            55922 non-null  object \n",
      " 10  affiliation_city     55517 non-null  object \n",
      " 11  affiliation_country  55866 non-null  object \n",
      " 12  author_count         56690 non-null  float64\n",
      " 13  author_names         56690 non-null  object \n",
      " 14  author_ids           56690 non-null  object \n",
      " 15  author_afids         56402 non-null  object \n",
      " 16  coverDate            57573 non-null  object \n",
      " 17  coverDisplayDate     57573 non-null  object \n",
      " 18  publicationName      57570 non-null  object \n",
      " 19  issn                 38795 non-null  object \n",
      " 20  source_id            57571 non-null  float64\n",
      " 21  eIssn                41239 non-null  object \n",
      " 22  aggregationType      57573 non-null  object \n",
      " 23  volume               49337 non-null  object \n",
      " 24  issueIdentifier      36243 non-null  object \n",
      " 25  article_number       21304 non-null  object \n",
      " 26  pageRange            37457 non-null  object \n",
      " 27  description          57037 non-null  object \n",
      " 28  authkeywords         45510 non-null  object \n",
      " 29  citedby_count        57573 non-null  int64  \n",
      " 30  openaccess           57573 non-null  int64  \n",
      " 31  fund_acr             20809 non-null  object \n",
      " 32  fund_no              57572 non-null  object \n",
      " 33  fund_sponsor         23340 non-null  object \n",
      " 34  topic                57573 non-null  object \n",
      " 35  year                 57573 non-null  int64  \n",
      "dtypes: float64(3), int64(3), object(30)\n",
      "memory usage: 9.2+ MB\n"
     ]
    }
   ],
   "source": [
    "# Información acerca de las columnas o features del dataset (tipos de datos)\n",
    "df.info()"
   ]
  },
  {
   "cell_type": "code",
   "execution_count": 5,
   "metadata": {},
   "outputs": [
    {
     "data": {
      "text/plain": [
       "Index(['eid', 'doi', 'pii', 'pubmed_id', 'title', 'subtype',\n",
       "       'subtypeDescription', 'creator', 'afid', 'affilname',\n",
       "       'affiliation_city', 'affiliation_country', 'author_count',\n",
       "       'author_names', 'author_ids', 'author_afids', 'coverDate',\n",
       "       'coverDisplayDate', 'publicationName', 'issn', 'source_id', 'eIssn',\n",
       "       'aggregationType', 'volume', 'issueIdentifier', 'article_number',\n",
       "       'pageRange', 'description', 'authkeywords', 'citedby_count',\n",
       "       'openaccess', 'fund_acr', 'fund_no', 'fund_sponsor', 'topic', 'year'],\n",
       "      dtype='object')"
      ]
     },
     "execution_count": 5,
     "metadata": {},
     "output_type": "execute_result"
    }
   ],
   "source": [
    "# Columnas del dataset\n",
    "df.columns"
   ]
  },
  {
   "cell_type": "markdown",
   "metadata": {},
   "source": [
    "## Overview del dataset"
   ]
  },
  {
   "cell_type": "code",
   "execution_count": 35,
   "metadata": {},
   "outputs": [
    {
     "data": {
      "text/html": [
       "<div>\n",
       "<style scoped>\n",
       "    .dataframe tbody tr th:only-of-type {\n",
       "        vertical-align: middle;\n",
       "    }\n",
       "\n",
       "    .dataframe tbody tr th {\n",
       "        vertical-align: top;\n",
       "    }\n",
       "\n",
       "    .dataframe thead th {\n",
       "        text-align: right;\n",
       "    }\n",
       "</style>\n",
       "<table border=\"1\" class=\"dataframe\">\n",
       "  <thead>\n",
       "    <tr style=\"text-align: right;\">\n",
       "      <th></th>\n",
       "      <th>doi</th>\n",
       "      <th>title</th>\n",
       "      <th>subtype</th>\n",
       "      <th>subtypeDescription</th>\n",
       "      <th>creator</th>\n",
       "      <th>affilname</th>\n",
       "      <th>affiliation_city</th>\n",
       "      <th>affiliation_country</th>\n",
       "      <th>author_count</th>\n",
       "      <th>author_names</th>\n",
       "      <th>coverDate</th>\n",
       "      <th>coverDisplayDate</th>\n",
       "      <th>publicationName</th>\n",
       "      <th>aggregationType</th>\n",
       "      <th>authkeywords</th>\n",
       "      <th>citedby_count</th>\n",
       "      <th>openaccess</th>\n",
       "      <th>year</th>\n",
       "    </tr>\n",
       "  </thead>\n",
       "  <tbody>\n",
       "    <tr>\n",
       "      <th>0</th>\n",
       "      <td>10.1525/cse.2018.001552</td>\n",
       "      <td>Returning water data to communities in Ndola, ...</td>\n",
       "      <td>ar</td>\n",
       "      <td>Article</td>\n",
       "      <td>Chitondo M.</td>\n",
       "      <td>University of Canterbury</td>\n",
       "      <td>Christchurch</td>\n",
       "      <td>New Zealand</td>\n",
       "      <td>2.0</td>\n",
       "      <td>Chitondo, Mando;Dombroski, Kelly</td>\n",
       "      <td>2019-12-31</td>\n",
       "      <td>31 December 2019</td>\n",
       "      <td>Case Studies in the Environment</td>\n",
       "      <td>Journal</td>\n",
       "      <td>NaN</td>\n",
       "      <td>0</td>\n",
       "      <td>0</td>\n",
       "      <td>2019</td>\n",
       "    </tr>\n",
       "    <tr>\n",
       "      <th>1</th>\n",
       "      <td>10.1525/cse.2018.001578</td>\n",
       "      <td>Ignoring quantitative reasoning: The initial e...</td>\n",
       "      <td>ar</td>\n",
       "      <td>Article</td>\n",
       "      <td>Bothun G.D.</td>\n",
       "      <td>University of Oregon</td>\n",
       "      <td>Eugene</td>\n",
       "      <td>United States</td>\n",
       "      <td>1.0</td>\n",
       "      <td>Bothun, Gregory D.</td>\n",
       "      <td>2019-12-31</td>\n",
       "      <td>31 December 2019</td>\n",
       "      <td>Case Studies in the Environment</td>\n",
       "      <td>Journal</td>\n",
       "      <td>NaN</td>\n",
       "      <td>0</td>\n",
       "      <td>0</td>\n",
       "      <td>2019</td>\n",
       "    </tr>\n",
       "    <tr>\n",
       "      <th>2</th>\n",
       "      <td>10.1093/poq/nfz050</td>\n",
       "      <td>Erratum: The polls-trends: Americans' trust in...</td>\n",
       "      <td>er</td>\n",
       "      <td>Erratum</td>\n",
       "      <td>Krause N.M.</td>\n",
       "      <td>NaN</td>\n",
       "      <td>NaN</td>\n",
       "      <td>NaN</td>\n",
       "      <td>1.0</td>\n",
       "      <td>Krause, Nicole M.</td>\n",
       "      <td>2019-12-31</td>\n",
       "      <td>1 March 2020</td>\n",
       "      <td>Public Opinion Quarterly</td>\n",
       "      <td>Journal</td>\n",
       "      <td>NaN</td>\n",
       "      <td>0</td>\n",
       "      <td>0</td>\n",
       "      <td>2019</td>\n",
       "    </tr>\n",
       "    <tr>\n",
       "      <th>3</th>\n",
       "      <td>10.22478/ufpb.1809-4783.2019v29n4.50113</td>\n",
       "      <td>Open access in question: New agendas and chall...</td>\n",
       "      <td>re</td>\n",
       "      <td>Review</td>\n",
       "      <td>Appel A.L.</td>\n",
       "      <td>Instituto Brasileiro de Informacao Em Ciencia ...</td>\n",
       "      <td>Brasilia;Rio de Janeiro</td>\n",
       "      <td>Brazil;Brazil</td>\n",
       "      <td>2.0</td>\n",
       "      <td>Appel, André Luiz;Albagli, Sarita</td>\n",
       "      <td>2019-12-31</td>\n",
       "      <td>31 December 2019</td>\n",
       "      <td>Informacao e Sociedade</td>\n",
       "      <td>Journal</td>\n",
       "      <td>Open access | Open science | Platforms | Schol...</td>\n",
       "      <td>0</td>\n",
       "      <td>1</td>\n",
       "      <td>2019</td>\n",
       "    </tr>\n",
       "    <tr>\n",
       "      <th>4</th>\n",
       "      <td>10.22478/ufpb.1809-4783.2019v29n4.47536</td>\n",
       "      <td>Interdisciplinarity in data science over big d...</td>\n",
       "      <td>ar</td>\n",
       "      <td>Article</td>\n",
       "      <td>Pinto V.A.</td>\n",
       "      <td>Universidade FUMEC;Universidade de Sao Paulo -...</td>\n",
       "      <td>Belo Horizonte;Sao Paulo;Koblenz am Rhein;Rio ...</td>\n",
       "      <td>Brazil;Brazil;Germany;Brazil</td>\n",
       "      <td>4.0</td>\n",
       "      <td>Pinto, Vitor Afonso;Cardoso, Ana Maria Pereira...</td>\n",
       "      <td>2019-12-31</td>\n",
       "      <td>31 December 2019</td>\n",
       "      <td>Informacao e Sociedade</td>\n",
       "      <td>Journal</td>\n",
       "      <td>Big data | Data science | Interdisciplinarity ...</td>\n",
       "      <td>0</td>\n",
       "      <td>1</td>\n",
       "      <td>2019</td>\n",
       "    </tr>\n",
       "  </tbody>\n",
       "</table>\n",
       "</div>"
      ],
      "text/plain": [
       "                                       doi  \\\n",
       "0                  10.1525/cse.2018.001552   \n",
       "1                  10.1525/cse.2018.001578   \n",
       "2                       10.1093/poq/nfz050   \n",
       "3  10.22478/ufpb.1809-4783.2019v29n4.50113   \n",
       "4  10.22478/ufpb.1809-4783.2019v29n4.47536   \n",
       "\n",
       "                                               title subtype  \\\n",
       "0  Returning water data to communities in Ndola, ...      ar   \n",
       "1  Ignoring quantitative reasoning: The initial e...      ar   \n",
       "2  Erratum: The polls-trends: Americans' trust in...      er   \n",
       "3  Open access in question: New agendas and chall...      re   \n",
       "4  Interdisciplinarity in data science over big d...      ar   \n",
       "\n",
       "  subtypeDescription      creator  \\\n",
       "0            Article  Chitondo M.   \n",
       "1            Article  Bothun G.D.   \n",
       "2            Erratum  Krause N.M.   \n",
       "3             Review   Appel A.L.   \n",
       "4            Article   Pinto V.A.   \n",
       "\n",
       "                                           affilname  \\\n",
       "0                           University of Canterbury   \n",
       "1                               University of Oregon   \n",
       "2                                                NaN   \n",
       "3  Instituto Brasileiro de Informacao Em Ciencia ...   \n",
       "4  Universidade FUMEC;Universidade de Sao Paulo -...   \n",
       "\n",
       "                                    affiliation_city  \\\n",
       "0                                       Christchurch   \n",
       "1                                             Eugene   \n",
       "2                                                NaN   \n",
       "3                            Brasilia;Rio de Janeiro   \n",
       "4  Belo Horizonte;Sao Paulo;Koblenz am Rhein;Rio ...   \n",
       "\n",
       "            affiliation_country  author_count  \\\n",
       "0                   New Zealand           2.0   \n",
       "1                 United States           1.0   \n",
       "2                           NaN           1.0   \n",
       "3                 Brazil;Brazil           2.0   \n",
       "4  Brazil;Brazil;Germany;Brazil           4.0   \n",
       "\n",
       "                                        author_names   coverDate  \\\n",
       "0                   Chitondo, Mando;Dombroski, Kelly  2019-12-31   \n",
       "1                                 Bothun, Gregory D.  2019-12-31   \n",
       "2                                  Krause, Nicole M.  2019-12-31   \n",
       "3                  Appel, André Luiz;Albagli, Sarita  2019-12-31   \n",
       "4  Pinto, Vitor Afonso;Cardoso, Ana Maria Pereira...  2019-12-31   \n",
       "\n",
       "   coverDisplayDate                  publicationName aggregationType  \\\n",
       "0  31 December 2019  Case Studies in the Environment         Journal   \n",
       "1  31 December 2019  Case Studies in the Environment         Journal   \n",
       "2      1 March 2020         Public Opinion Quarterly         Journal   \n",
       "3  31 December 2019           Informacao e Sociedade         Journal   \n",
       "4  31 December 2019           Informacao e Sociedade         Journal   \n",
       "\n",
       "                                        authkeywords  citedby_count  \\\n",
       "0                                                NaN              0   \n",
       "1                                                NaN              0   \n",
       "2                                                NaN              0   \n",
       "3  Open access | Open science | Platforms | Schol...              0   \n",
       "4  Big data | Data science | Interdisciplinarity ...              0   \n",
       "\n",
       "   openaccess  year  \n",
       "0           0  2019  \n",
       "1           0  2019  \n",
       "2           0  2019  \n",
       "3           1  2019  \n",
       "4           1  2019  "
      ]
     },
     "execution_count": 35,
     "metadata": {},
     "output_type": "execute_result"
    }
   ],
   "source": [
    "df[['doi','title','subtype','subtypeDescription','creator','affilname','affiliation_city','affiliation_country',\n",
    "'author_count','author_names','coverDate','coverDisplayDate','publicationName','aggregationType','authkeywords','citedby_count',\n",
    "'openaccess','year']].head()"
   ]
  },
  {
   "cell_type": "markdown",
   "metadata": {},
   "source": [
    "## Análisis de outliers"
   ]
  },
  {
   "cell_type": "code",
   "execution_count": 9,
   "metadata": {},
   "outputs": [
    {
     "data": {
      "text/plain": [
       "2.0"
      ]
     },
     "execution_count": 9,
     "metadata": {},
     "output_type": "execute_result"
    }
   ],
   "source": [
    "df.author_count.quantile(0.25)"
   ]
  },
  {
   "cell_type": "code",
   "execution_count": 10,
   "metadata": {},
   "outputs": [
    {
     "data": {
      "text/plain": [
       "6.0"
      ]
     },
     "execution_count": 10,
     "metadata": {},
     "output_type": "execute_result"
    }
   ],
   "source": [
    "df.author_count.quantile(0.75)"
   ]
  },
  {
   "cell_type": "code",
   "execution_count": 31,
   "metadata": {},
   "outputs": [
    {
     "data": {
      "text/html": [
       "<div>\n",
       "<style scoped>\n",
       "    .dataframe tbody tr th:only-of-type {\n",
       "        vertical-align: middle;\n",
       "    }\n",
       "\n",
       "    .dataframe tbody tr th {\n",
       "        vertical-align: top;\n",
       "    }\n",
       "\n",
       "    .dataframe thead th {\n",
       "        text-align: right;\n",
       "    }\n",
       "</style>\n",
       "<table border=\"1\" class=\"dataframe\">\n",
       "  <thead>\n",
       "    <tr style=\"text-align: right;\">\n",
       "      <th></th>\n",
       "      <th>title</th>\n",
       "      <th>author_count</th>\n",
       "    </tr>\n",
       "  </thead>\n",
       "  <tbody>\n",
       "    <tr>\n",
       "      <th>65</th>\n",
       "      <td>Implementation research for public sector ment...</td>\n",
       "      <td>20.0</td>\n",
       "    </tr>\n",
       "    <tr>\n",
       "      <th>76</th>\n",
       "      <td>The Atmospheric River Tracking Method Intercom...</td>\n",
       "      <td>37.0</td>\n",
       "    </tr>\n",
       "    <tr>\n",
       "      <th>156</th>\n",
       "      <td>Phosphoproteomics Enables Molecular Subtyping ...</td>\n",
       "      <td>22.0</td>\n",
       "    </tr>\n",
       "    <tr>\n",
       "      <th>157</th>\n",
       "      <td>A High-Quality Melon Genome Assembly Provides ...</td>\n",
       "      <td>17.0</td>\n",
       "    </tr>\n",
       "    <tr>\n",
       "      <th>181</th>\n",
       "      <td>An Arctic watershed observatory at Lake Peters...</td>\n",
       "      <td>16.0</td>\n",
       "    </tr>\n",
       "    <tr>\n",
       "      <th>...</th>\n",
       "      <td>...</td>\n",
       "      <td>...</td>\n",
       "    </tr>\n",
       "    <tr>\n",
       "      <th>57297</th>\n",
       "      <td>Teaching graduate students how to review resea...</td>\n",
       "      <td>22.0</td>\n",
       "    </tr>\n",
       "    <tr>\n",
       "      <th>57332</th>\n",
       "      <td>Eight urgent, fundamental and simultaneous ste...</td>\n",
       "      <td>15.0</td>\n",
       "    </tr>\n",
       "    <tr>\n",
       "      <th>57334</th>\n",
       "      <td>Macroecology in the age of Big Data – Where to...</td>\n",
       "      <td>13.0</td>\n",
       "    </tr>\n",
       "    <tr>\n",
       "      <th>57399</th>\n",
       "      <td>EULAR points to consider for the use of big da...</td>\n",
       "      <td>14.0</td>\n",
       "    </tr>\n",
       "    <tr>\n",
       "      <th>57510</th>\n",
       "      <td>Laboratory medicine: Health evaluation in elit...</td>\n",
       "      <td>18.0</td>\n",
       "    </tr>\n",
       "  </tbody>\n",
       "</table>\n",
       "<p>1972 rows × 2 columns</p>\n",
       "</div>"
      ],
      "text/plain": [
       "                                                   title  author_count\n",
       "65     Implementation research for public sector ment...          20.0\n",
       "76     The Atmospheric River Tracking Method Intercom...          37.0\n",
       "156    Phosphoproteomics Enables Molecular Subtyping ...          22.0\n",
       "157    A High-Quality Melon Genome Assembly Provides ...          17.0\n",
       "181    An Arctic watershed observatory at Lake Peters...          16.0\n",
       "...                                                  ...           ...\n",
       "57297  Teaching graduate students how to review resea...          22.0\n",
       "57332  Eight urgent, fundamental and simultaneous ste...          15.0\n",
       "57334  Macroecology in the age of Big Data – Where to...          13.0\n",
       "57399  EULAR points to consider for the use of big da...          14.0\n",
       "57510  Laboratory medicine: Health evaluation in elit...          18.0\n",
       "\n",
       "[1972 rows x 2 columns]"
      ]
     },
     "execution_count": 31,
     "metadata": {},
     "output_type": "execute_result"
    }
   ],
   "source": [
    "outliers_author_count=df[['title','author_count']].loc[df['author_count']>df.author_count.quantile(0.75)+1.5*(df.author_count.quantile(0.75)-df.author_count.quantile(0.25))]\n",
    "outliers_author_count"
   ]
  },
  {
   "cell_type": "code",
   "execution_count": 26,
   "metadata": {},
   "outputs": [
    {
     "data": {
      "text/plain": [
       "3.425216681430532"
      ]
     },
     "execution_count": 26,
     "metadata": {},
     "output_type": "execute_result"
    }
   ],
   "source": [
    "porcentaje_out_author=outliers_author_count.title.count()/df.title.count()*100\n",
    "porcentaje_out_author"
   ]
  },
  {
   "cell_type": "markdown",
   "metadata": {},
   "source": [
    "El 3.4 % de los registros del dataset son outliers para la variable author_count"
   ]
  },
  {
   "cell_type": "code",
   "execution_count": 15,
   "metadata": {},
   "outputs": [
    {
     "data": {
      "text/plain": [
       "0.0"
      ]
     },
     "execution_count": 15,
     "metadata": {},
     "output_type": "execute_result"
    }
   ],
   "source": [
    "df.citedby_count.quantile(0.25)"
   ]
  },
  {
   "cell_type": "code",
   "execution_count": 16,
   "metadata": {},
   "outputs": [
    {
     "data": {
      "text/plain": [
       "4.0"
      ]
     },
     "execution_count": 16,
     "metadata": {},
     "output_type": "execute_result"
    }
   ],
   "source": [
    "df.citedby_count.quantile(0.75)"
   ]
  },
  {
   "cell_type": "code",
   "execution_count": 32,
   "metadata": {},
   "outputs": [
    {
     "data": {
      "text/html": [
       "<div>\n",
       "<style scoped>\n",
       "    .dataframe tbody tr th:only-of-type {\n",
       "        vertical-align: middle;\n",
       "    }\n",
       "\n",
       "    .dataframe tbody tr th {\n",
       "        vertical-align: top;\n",
       "    }\n",
       "\n",
       "    .dataframe thead th {\n",
       "        text-align: right;\n",
       "    }\n",
       "</style>\n",
       "<table border=\"1\" class=\"dataframe\">\n",
       "  <thead>\n",
       "    <tr style=\"text-align: right;\">\n",
       "      <th></th>\n",
       "      <th>title</th>\n",
       "      <th>citedby_count</th>\n",
       "    </tr>\n",
       "  </thead>\n",
       "  <tbody>\n",
       "    <tr>\n",
       "      <th>10</th>\n",
       "      <td>Feature extraction and elimination using machi...</td>\n",
       "      <td>22</td>\n",
       "    </tr>\n",
       "    <tr>\n",
       "      <th>13</th>\n",
       "      <td>What is machine learning? A primer for the epi...</td>\n",
       "      <td>33</td>\n",
       "    </tr>\n",
       "    <tr>\n",
       "      <th>15</th>\n",
       "      <td>THE POLLS-Trends - Americans' Trust in Science...</td>\n",
       "      <td>16</td>\n",
       "    </tr>\n",
       "    <tr>\n",
       "      <th>28</th>\n",
       "      <td>Decompressive craniectomy for the treatment of...</td>\n",
       "      <td>31</td>\n",
       "    </tr>\n",
       "    <tr>\n",
       "      <th>52</th>\n",
       "      <td>A systematic survey of computer-aided diagnosi...</td>\n",
       "      <td>35</td>\n",
       "    </tr>\n",
       "    <tr>\n",
       "      <th>...</th>\n",
       "      <td>...</td>\n",
       "      <td>...</td>\n",
       "    </tr>\n",
       "    <tr>\n",
       "      <th>57566</th>\n",
       "      <td>Texture model regression for effective feature...</td>\n",
       "      <td>33</td>\n",
       "    </tr>\n",
       "    <tr>\n",
       "      <th>57567</th>\n",
       "      <td>Geopressure prediction using seismic data: Cur...</td>\n",
       "      <td>176</td>\n",
       "    </tr>\n",
       "    <tr>\n",
       "      <th>57568</th>\n",
       "      <td>Actual problems of hygiene science and practic...</td>\n",
       "      <td>16</td>\n",
       "    </tr>\n",
       "    <tr>\n",
       "      <th>57571</th>\n",
       "      <td>Potential coordinate mislocations in crosshole...</td>\n",
       "      <td>35</td>\n",
       "    </tr>\n",
       "    <tr>\n",
       "      <th>57572</th>\n",
       "      <td>Permeability prediction with artificial neural...</td>\n",
       "      <td>120</td>\n",
       "    </tr>\n",
       "  </tbody>\n",
       "</table>\n",
       "<p>4823 rows × 2 columns</p>\n",
       "</div>"
      ],
      "text/plain": [
       "                                                   title  citedby_count\n",
       "10     Feature extraction and elimination using machi...             22\n",
       "13     What is machine learning? A primer for the epi...             33\n",
       "15     THE POLLS-Trends - Americans' Trust in Science...             16\n",
       "28     Decompressive craniectomy for the treatment of...             31\n",
       "52     A systematic survey of computer-aided diagnosi...             35\n",
       "...                                                  ...            ...\n",
       "57566  Texture model regression for effective feature...             33\n",
       "57567  Geopressure prediction using seismic data: Cur...            176\n",
       "57568  Actual problems of hygiene science and practic...             16\n",
       "57571  Potential coordinate mislocations in crosshole...             35\n",
       "57572  Permeability prediction with artificial neural...            120\n",
       "\n",
       "[4823 rows x 2 columns]"
      ]
     },
     "execution_count": 32,
     "metadata": {},
     "output_type": "execute_result"
    }
   ],
   "source": [
    "outliers_citedby_count=df[['title','citedby_count']].loc[df['citedby_count']>df.citedby_count.quantile(0.75)+1.5*(df.citedby_count.quantile(0.75)-df.citedby_count.quantile(0.25))]\n",
    "outliers_citedby_count"
   ]
  },
  {
   "cell_type": "code",
   "execution_count": 30,
   "metadata": {},
   "outputs": [
    {
     "data": {
      "text/plain": [
       "8.377190697028121"
      ]
     },
     "execution_count": 30,
     "metadata": {},
     "output_type": "execute_result"
    }
   ],
   "source": [
    "porcentaje_out_citedby=outliers_citedby_count.title.count()/df.title.count()*100\n",
    "porcentaje_out_citedby"
   ]
  },
  {
   "cell_type": "markdown",
   "metadata": {},
   "source": [
    "El 8.3 % de los registros del dataset son outliers para la variable citedby_count"
   ]
  },
  {
   "cell_type": "markdown",
   "metadata": {},
   "source": [
    "## Análisis de variables categóricas"
   ]
  },
  {
   "cell_type": "markdown",
   "metadata": {},
   "source": [
    "### Pregunta 1: ¿Como ha variado la producción de papers del año 2019 al 2020 según el tipo de documento publicado?"
   ]
  },
  {
   "cell_type": "code",
   "execution_count": 6,
   "metadata": {},
   "outputs": [],
   "source": [
    "aggre_values=pd.unique(df['aggregationType'])"
   ]
  },
  {
   "cell_type": "code",
   "execution_count": 157,
   "metadata": {},
   "outputs": [
    {
     "data": {
      "text/html": [
       "<div>\n",
       "<style scoped>\n",
       "    .dataframe tbody tr th:only-of-type {\n",
       "        vertical-align: middle;\n",
       "    }\n",
       "\n",
       "    .dataframe tbody tr th {\n",
       "        vertical-align: top;\n",
       "    }\n",
       "\n",
       "    .dataframe thead th {\n",
       "        text-align: right;\n",
       "    }\n",
       "</style>\n",
       "<table border=\"1\" class=\"dataframe\">\n",
       "  <thead>\n",
       "    <tr style=\"text-align: right;\">\n",
       "      <th></th>\n",
       "      <th></th>\n",
       "      <th>title</th>\n",
       "    </tr>\n",
       "    <tr>\n",
       "      <th>aggregationType</th>\n",
       "      <th>year</th>\n",
       "      <th></th>\n",
       "    </tr>\n",
       "  </thead>\n",
       "  <tbody>\n",
       "    <tr>\n",
       "      <th rowspan=\"2\" valign=\"top\">Book</th>\n",
       "      <th>2019</th>\n",
       "      <td>461</td>\n",
       "    </tr>\n",
       "    <tr>\n",
       "      <th>2020</th>\n",
       "      <td>171</td>\n",
       "    </tr>\n",
       "    <tr>\n",
       "      <th rowspan=\"2\" valign=\"top\">Book Series</th>\n",
       "      <th>2019</th>\n",
       "      <td>1545</td>\n",
       "    </tr>\n",
       "    <tr>\n",
       "      <th>2020</th>\n",
       "      <td>1927</td>\n",
       "    </tr>\n",
       "    <tr>\n",
       "      <th rowspan=\"2\" valign=\"top\">Conference Proceeding</th>\n",
       "      <th>2019</th>\n",
       "      <td>5149</td>\n",
       "    </tr>\n",
       "    <tr>\n",
       "      <th>2020</th>\n",
       "      <td>5507</td>\n",
       "    </tr>\n",
       "    <tr>\n",
       "      <th rowspan=\"2\" valign=\"top\">Journal</th>\n",
       "      <th>2019</th>\n",
       "      <td>19164</td>\n",
       "    </tr>\n",
       "    <tr>\n",
       "      <th>2020</th>\n",
       "      <td>23581</td>\n",
       "    </tr>\n",
       "    <tr>\n",
       "      <th rowspan=\"2\" valign=\"top\">Trade Journal</th>\n",
       "      <th>2019</th>\n",
       "      <td>40</td>\n",
       "    </tr>\n",
       "    <tr>\n",
       "      <th>2020</th>\n",
       "      <td>28</td>\n",
       "    </tr>\n",
       "  </tbody>\n",
       "</table>\n",
       "</div>"
      ],
      "text/plain": [
       "                            title\n",
       "aggregationType       year       \n",
       "Book                  2019    461\n",
       "                      2020    171\n",
       "Book Series           2019   1545\n",
       "                      2020   1927\n",
       "Conference Proceeding 2019   5149\n",
       "                      2020   5507\n",
       "Journal               2019  19164\n",
       "                      2020  23581\n",
       "Trade Journal         2019     40\n",
       "                      2020     28"
      ]
     },
     "execution_count": 157,
     "metadata": {},
     "output_type": "execute_result"
    }
   ],
   "source": [
    "# Revisamos nuestras principales variables categoricas las cuales clasifican cada paper por su tipo\n",
    "cuenta_agrtype=df[['aggregationType','year','title']].groupby(['aggregationType','year']).count()\n",
    "cuenta_agrtype"
   ]
  },
  {
   "cell_type": "code",
   "execution_count": 159,
   "metadata": {},
   "outputs": [
    {
     "data": {
      "text/plain": [
       "Text(0, 0.5, 'Count')"
      ]
     },
     "execution_count": 159,
     "metadata": {},
     "output_type": "execute_result"
    },
    {
     "data": {
      "image/png": "[encoded data removed]",
      "text/plain": [
       "<Figure size 432x288 with 1 Axes>"
      ]
     },
     "metadata": {
      "needs_background": "light"
     },
     "output_type": "display_data"
    }
   ],
   "source": [
    "cuenta_type=df[['aggregationType','year','title']].groupby(['aggregationType','year']).count().reset_index()\n",
    "sns.barplot(data=cuenta_type, x=\"aggregationType\", y=\"title\", hue=\"year\")\n",
    "plt.title(\"Producción de papers según tipo de documento\")\n",
    "plt.ylabel(\"Count\")"
   ]
  },
  {
   "cell_type": "markdown",
   "metadata": {},
   "source": [
    "Respuesta(s):\n",
    "- Se puede observar que el tipo de documento en el que hay más instancias de papers es el Journal tanto para el 2019 como para el 2020.\n",
    "- En cuanto a la variación, se puede observar que todos han tenido un aumento en cuanto a la producción de papers, excepto el tipo de documento Book y Trade Journal.​\n",
    "- El tipo de documento que más afectación tuvo fue Journal, con un porcentaje de aumento mayor al 30%."
   ]
  },
  {
   "cell_type": "code",
   "execution_count": 111,
   "metadata": {},
   "outputs": [
    {
     "data": {
      "text/plain": [
       "[23.04842412857441,\n",
       " 6.952806370168965,\n",
       " -62.906724511930584,\n",
       " 24.72491909385113,\n",
       " -30.0]"
      ]
     },
     "execution_count": 111,
     "metadata": {},
     "output_type": "execute_result"
    }
   ],
   "source": [
    "porcentajes=[]\n",
    "for tipo in aggre_values:\n",
    "    x=100*(cuenta_agrtype.loc[(tipo,2020),'title']-cuenta_agrtype.loc[(tipo,2019),'title'])/cuenta_agrtype.loc[(tipo,2019),'title']\n",
    "    porcentajes.append(x)\n",
    "porcentajes"
   ]
  },
  {
   "cell_type": "code",
   "execution_count": 116,
   "metadata": {},
   "outputs": [
    {
     "data": {
      "text/html": [
       "<div>\n",
       "<style scoped>\n",
       "    .dataframe tbody tr th:only-of-type {\n",
       "        vertical-align: middle;\n",
       "    }\n",
       "\n",
       "    .dataframe tbody tr th {\n",
       "        vertical-align: top;\n",
       "    }\n",
       "\n",
       "    .dataframe thead th {\n",
       "        text-align: right;\n",
       "    }\n",
       "</style>\n",
       "<table border=\"1\" class=\"dataframe\">\n",
       "  <thead>\n",
       "    <tr style=\"text-align: right;\">\n",
       "      <th></th>\n",
       "      <th>0</th>\n",
       "      <th>Tipo</th>\n",
       "    </tr>\n",
       "  </thead>\n",
       "  <tbody>\n",
       "    <tr>\n",
       "      <th>0</th>\n",
       "      <td>23.048424</td>\n",
       "      <td>Journal</td>\n",
       "    </tr>\n",
       "    <tr>\n",
       "      <th>1</th>\n",
       "      <td>6.952806</td>\n",
       "      <td>Conference Proceeding</td>\n",
       "    </tr>\n",
       "    <tr>\n",
       "      <th>2</th>\n",
       "      <td>-62.906725</td>\n",
       "      <td>Book</td>\n",
       "    </tr>\n",
       "    <tr>\n",
       "      <th>3</th>\n",
       "      <td>24.724919</td>\n",
       "      <td>Book Series</td>\n",
       "    </tr>\n",
       "    <tr>\n",
       "      <th>4</th>\n",
       "      <td>-30.000000</td>\n",
       "      <td>Trade Journal</td>\n",
       "    </tr>\n",
       "  </tbody>\n",
       "</table>\n",
       "</div>"
      ],
      "text/plain": [
       "           0                   Tipo\n",
       "0  23.048424                Journal\n",
       "1   6.952806  Conference Proceeding\n",
       "2 -62.906725                   Book\n",
       "3  24.724919            Book Series\n",
       "4 -30.000000          Trade Journal"
      ]
     },
     "execution_count": 116,
     "metadata": {},
     "output_type": "execute_result"
    }
   ],
   "source": [
    "df_porcentajes=pd.DataFrame(porcentajes)\n",
    "df_porcentajes['Tipo']=aggre_values\n",
    "df_porcentajes"
   ]
  },
  {
   "cell_type": "code",
   "execution_count": 75,
   "metadata": {},
   "outputs": [
    {
     "data": {
      "text/html": [
       "<div>\n",
       "<style scoped>\n",
       "    .dataframe tbody tr th:only-of-type {\n",
       "        vertical-align: middle;\n",
       "    }\n",
       "\n",
       "    .dataframe tbody tr th {\n",
       "        vertical-align: top;\n",
       "    }\n",
       "\n",
       "    .dataframe thead th {\n",
       "        text-align: right;\n",
       "    }\n",
       "</style>\n",
       "<table border=\"1\" class=\"dataframe\">\n",
       "  <thead>\n",
       "    <tr style=\"text-align: right;\">\n",
       "      <th></th>\n",
       "      <th></th>\n",
       "      <th>title</th>\n",
       "    </tr>\n",
       "    <tr>\n",
       "      <th>subtypeDescription</th>\n",
       "      <th>year</th>\n",
       "      <th></th>\n",
       "    </tr>\n",
       "  </thead>\n",
       "  <tbody>\n",
       "    <tr>\n",
       "      <th rowspan=\"2\" valign=\"top\">Article</th>\n",
       "      <th>2019</th>\n",
       "      <td>14723</td>\n",
       "    </tr>\n",
       "    <tr>\n",
       "      <th>2020</th>\n",
       "      <td>17930</td>\n",
       "    </tr>\n",
       "    <tr>\n",
       "      <th rowspan=\"2\" valign=\"top\">Book</th>\n",
       "      <th>2019</th>\n",
       "      <td>133</td>\n",
       "    </tr>\n",
       "    <tr>\n",
       "      <th>2020</th>\n",
       "      <td>67</td>\n",
       "    </tr>\n",
       "    <tr>\n",
       "      <th rowspan=\"2\" valign=\"top\">Chapter</th>\n",
       "      <th>2019</th>\n",
       "      <td>637</td>\n",
       "    </tr>\n",
       "    <tr>\n",
       "      <th>2020</th>\n",
       "      <td>449</td>\n",
       "    </tr>\n",
       "    <tr>\n",
       "      <th rowspan=\"2\" valign=\"top\">Conference Paper</th>\n",
       "      <th>2019</th>\n",
       "      <td>6089</td>\n",
       "    </tr>\n",
       "    <tr>\n",
       "      <th>2020</th>\n",
       "      <td>6817</td>\n",
       "    </tr>\n",
       "    <tr>\n",
       "      <th rowspan=\"2\" valign=\"top\">Conference Review</th>\n",
       "      <th>2019</th>\n",
       "      <td>320</td>\n",
       "    </tr>\n",
       "    <tr>\n",
       "      <th>2020</th>\n",
       "      <td>322</td>\n",
       "    </tr>\n",
       "    <tr>\n",
       "      <th rowspan=\"2\" valign=\"top\">Editorial</th>\n",
       "      <th>2019</th>\n",
       "      <td>141</td>\n",
       "    </tr>\n",
       "    <tr>\n",
       "      <th>2020</th>\n",
       "      <td>173</td>\n",
       "    </tr>\n",
       "    <tr>\n",
       "      <th rowspan=\"2\" valign=\"top\">Erratum</th>\n",
       "      <th>2019</th>\n",
       "      <td>303</td>\n",
       "    </tr>\n",
       "    <tr>\n",
       "      <th>2020</th>\n",
       "      <td>506</td>\n",
       "    </tr>\n",
       "    <tr>\n",
       "      <th rowspan=\"2\" valign=\"top\">Letter</th>\n",
       "      <th>2019</th>\n",
       "      <td>50</td>\n",
       "    </tr>\n",
       "    <tr>\n",
       "      <th>2020</th>\n",
       "      <td>62</td>\n",
       "    </tr>\n",
       "    <tr>\n",
       "      <th rowspan=\"2\" valign=\"top\">Note</th>\n",
       "      <th>2019</th>\n",
       "      <td>186</td>\n",
       "    </tr>\n",
       "    <tr>\n",
       "      <th>2020</th>\n",
       "      <td>162</td>\n",
       "    </tr>\n",
       "    <tr>\n",
       "      <th rowspan=\"2\" valign=\"top\">Review</th>\n",
       "      <th>2019</th>\n",
       "      <td>3671</td>\n",
       "    </tr>\n",
       "    <tr>\n",
       "      <th>2020</th>\n",
       "      <td>4609</td>\n",
       "    </tr>\n",
       "    <tr>\n",
       "      <th rowspan=\"2\" valign=\"top\">Short Survey</th>\n",
       "      <th>2019</th>\n",
       "      <td>35</td>\n",
       "    </tr>\n",
       "    <tr>\n",
       "      <th>2020</th>\n",
       "      <td>33</td>\n",
       "    </tr>\n",
       "  </tbody>\n",
       "</table>\n",
       "</div>"
      ],
      "text/plain": [
       "                         title\n",
       "subtypeDescription year       \n",
       "Article            2019  14723\n",
       "                   2020  17930\n",
       "Book               2019    133\n",
       "                   2020     67\n",
       "Chapter            2019    637\n",
       "                   2020    449\n",
       "Conference Paper   2019   6089\n",
       "                   2020   6817\n",
       "Conference Review  2019    320\n",
       "                   2020    322\n",
       "Editorial          2019    141\n",
       "                   2020    173\n",
       "Erratum            2019    303\n",
       "                   2020    506\n",
       "Letter             2019     50\n",
       "                   2020     62\n",
       "Note               2019    186\n",
       "                   2020    162\n",
       "Review             2019   3671\n",
       "                   2020   4609\n",
       "Short Survey       2019     35\n",
       "                   2020     33"
      ]
     },
     "execution_count": 75,
     "metadata": {},
     "output_type": "execute_result"
    }
   ],
   "source": [
    "cuenta_subtype=df[['subtypeDescription','year','title']].groupby(['subtypeDescription','year']).count()\n",
    "cuenta_subtype"
   ]
  },
  {
   "cell_type": "markdown",
   "metadata": {},
   "source": [
    "### Pregunta 2: ¿Como afectó la producción de papers en los paises con mayor número de publicaciones del año 2019 tras los sucesos de la pandemia del COVID-19?"
   ]
  },
  {
   "cell_type": "code",
   "execution_count": 154,
   "metadata": {},
   "outputs": [],
   "source": [
    "def split(x):\n",
    "    if pd.isnull(x):\n",
    "        return []\n",
    "    return str(x).split(\";\")\n",
    "    df[\"affiliation_country\"] = df[\"affiliation_country\"].apply(split)\n",
    "    df[[\"affiliation_country\"]]"
   ]
  },
  {
   "cell_type": "code",
   "execution_count": 155,
   "metadata": {},
   "outputs": [
    {
     "data": {
      "text/html": [
       "<div>\n",
       "<style scoped>\n",
       "    .dataframe tbody tr th:only-of-type {\n",
       "        vertical-align: middle;\n",
       "    }\n",
       "\n",
       "    .dataframe tbody tr th {\n",
       "        vertical-align: top;\n",
       "    }\n",
       "\n",
       "    .dataframe thead th {\n",
       "        text-align: right;\n",
       "    }\n",
       "</style>\n",
       "<table border=\"1\" class=\"dataframe\">\n",
       "  <thead>\n",
       "    <tr style=\"text-align: right;\">\n",
       "      <th></th>\n",
       "      <th>affiliation_country</th>\n",
       "    </tr>\n",
       "  </thead>\n",
       "  <tbody>\n",
       "    <tr>\n",
       "      <th>0</th>\n",
       "      <td>New Zealand</td>\n",
       "    </tr>\n",
       "    <tr>\n",
       "      <th>1</th>\n",
       "      <td>United States</td>\n",
       "    </tr>\n",
       "    <tr>\n",
       "      <th>2</th>\n",
       "      <td>NaN</td>\n",
       "    </tr>\n",
       "    <tr>\n",
       "      <th>3</th>\n",
       "      <td>Brazil;Brazil</td>\n",
       "    </tr>\n",
       "    <tr>\n",
       "      <th>4</th>\n",
       "      <td>Brazil;Brazil;Germany;Brazil</td>\n",
       "    </tr>\n",
       "    <tr>\n",
       "      <th>...</th>\n",
       "      <td>...</td>\n",
       "    </tr>\n",
       "    <tr>\n",
       "      <th>57568</th>\n",
       "      <td>Russian Federation</td>\n",
       "    </tr>\n",
       "    <tr>\n",
       "      <th>57569</th>\n",
       "      <td>Germany;Germany;United States</td>\n",
       "    </tr>\n",
       "    <tr>\n",
       "      <th>57570</th>\n",
       "      <td>Italy;Spain</td>\n",
       "    </tr>\n",
       "    <tr>\n",
       "      <th>57571</th>\n",
       "      <td>Switzerland</td>\n",
       "    </tr>\n",
       "    <tr>\n",
       "      <th>57572</th>\n",
       "      <td>Canada</td>\n",
       "    </tr>\n",
       "  </tbody>\n",
       "</table>\n",
       "<p>57573 rows × 1 columns</p>\n",
       "</div>"
      ],
      "text/plain": [
       "                 affiliation_country\n",
       "0                        New Zealand\n",
       "1                      United States\n",
       "2                                NaN\n",
       "3                      Brazil;Brazil\n",
       "4       Brazil;Brazil;Germany;Brazil\n",
       "...                              ...\n",
       "57568             Russian Federation\n",
       "57569  Germany;Germany;United States\n",
       "57570                    Italy;Spain\n",
       "57571                    Switzerland\n",
       "57572                         Canada\n",
       "\n",
       "[57573 rows x 1 columns]"
      ]
     },
     "execution_count": 155,
     "metadata": {},
     "output_type": "execute_result"
    }
   ],
   "source": [
    "df_countries = df.explode(\"affiliation_country\", ignore_index=True)\n",
    "df_countries[[\"affiliation_country\"]]"
   ]
  },
  {
   "cell_type": "code",
   "execution_count": 167,
   "metadata": {},
   "outputs": [
    {
     "data": {
      "text/html": [
       "<div>\n",
       "<style scoped>\n",
       "    .dataframe tbody tr th:only-of-type {\n",
       "        vertical-align: middle;\n",
       "    }\n",
       "\n",
       "    .dataframe tbody tr th {\n",
       "        vertical-align: top;\n",
       "    }\n",
       "\n",
       "    .dataframe thead th {\n",
       "        text-align: right;\n",
       "    }\n",
       "</style>\n",
       "<table border=\"1\" class=\"dataframe\">\n",
       "  <thead>\n",
       "    <tr style=\"text-align: right;\">\n",
       "      <th></th>\n",
       "      <th>affiliation_country</th>\n",
       "      <th>year</th>\n",
       "      <th>title</th>\n",
       "    </tr>\n",
       "  </thead>\n",
       "  <tbody>\n",
       "    <tr>\n",
       "      <th>0</th>\n",
       "      <td>United States</td>\n",
       "      <td>2019</td>\n",
       "      <td>2258</td>\n",
       "    </tr>\n",
       "    <tr>\n",
       "      <th>1</th>\n",
       "      <td>China</td>\n",
       "      <td>2020</td>\n",
       "      <td>2235</td>\n",
       "    </tr>\n",
       "    <tr>\n",
       "      <th>2</th>\n",
       "      <td>United States</td>\n",
       "      <td>2020</td>\n",
       "      <td>2217</td>\n",
       "    </tr>\n",
       "    <tr>\n",
       "      <th>3</th>\n",
       "      <td>United States;United States</td>\n",
       "      <td>2020</td>\n",
       "      <td>1269</td>\n",
       "    </tr>\n",
       "    <tr>\n",
       "      <th>4</th>\n",
       "      <td>United States;United States</td>\n",
       "      <td>2019</td>\n",
       "      <td>1262</td>\n",
       "    </tr>\n",
       "    <tr>\n",
       "      <th>5</th>\n",
       "      <td>China</td>\n",
       "      <td>2019</td>\n",
       "      <td>1172</td>\n",
       "    </tr>\n",
       "    <tr>\n",
       "      <th>6</th>\n",
       "      <td>China;China</td>\n",
       "      <td>2020</td>\n",
       "      <td>1160</td>\n",
       "    </tr>\n",
       "    <tr>\n",
       "      <th>7</th>\n",
       "      <td>India</td>\n",
       "      <td>2020</td>\n",
       "      <td>758</td>\n",
       "    </tr>\n",
       "    <tr>\n",
       "      <th>8</th>\n",
       "      <td>China;China</td>\n",
       "      <td>2019</td>\n",
       "      <td>750</td>\n",
       "    </tr>\n",
       "    <tr>\n",
       "      <th>9</th>\n",
       "      <td>India</td>\n",
       "      <td>2019</td>\n",
       "      <td>663</td>\n",
       "    </tr>\n",
       "  </tbody>\n",
       "</table>\n",
       "</div>"
      ],
      "text/plain": [
       "           affiliation_country  year  title\n",
       "0                United States  2019   2258\n",
       "1                        China  2020   2235\n",
       "2                United States  2020   2217\n",
       "3  United States;United States  2020   1269\n",
       "4  United States;United States  2019   1262\n",
       "5                        China  2019   1172\n",
       "6                  China;China  2020   1160\n",
       "7                        India  2020    758\n",
       "8                  China;China  2019    750\n",
       "9                        India  2019    663"
      ]
     },
     "execution_count": 167,
     "metadata": {},
     "output_type": "execute_result"
    }
   ],
   "source": [
    "groupbycountry = df_countries[[\"affiliation_country\", \"year\", \"title\"]].groupby([\"affiliation_country\", \"year\"]).count().sort_values(by=\"title\", ascending=False).reset_index()\n",
    "groupbycountry.head(10)"
   ]
  },
  {
   "cell_type": "code",
   "execution_count": 156,
   "metadata": {},
   "outputs": [
    {
     "data": {
      "text/plain": [
       "Text(0, 0.5, 'Count')"
      ]
     },
     "execution_count": 156,
     "metadata": {},
     "output_type": "execute_result"
    },
    {
     "data": {
      "image/png": "[encoded data removed]",
      "text/plain": [
       "<Figure size 432x288 with 1 Axes>"
      ]
     },
     "metadata": {
      "needs_background": "light"
     },
     "output_type": "display_data"
    }
   ],
   "source": [
    "# ¿Qué países presentan una mayor afectación en la producción de papers del último año tras los sucesos de la pandemia del COVID-19?\n",
    "groupbycountry = df_countries[[\"affiliation_country\", \"year\", \"title\"]].groupby([\"affiliation_country\", \"year\"]).count().sort_values(by=\"title\", ascending=False).reset_index()\n",
    "sns.barplot(data=groupbycountry.head(10), x=\"affiliation_country\", y=\"title\", hue=\"year\")\n",
    "plt.title(\"Top 5 países mayor producción de papers\")\n",
    "plt.ylabel(\"Count\")"
   ]
  },
  {
   "cell_type": "markdown",
   "metadata": {},
   "source": [
    "Respuesta(s):\n",
    "- Se incrementó ligeramente la producción de papers en todos los países de mayor producción\n",
    "- Podemos evidenciar un gran aumento de publicaciones de papers en China, país que se tornó el centro de la pandemia."
   ]
  },
  {
   "cell_type": "code",
   "execution_count": 161,
   "metadata": {},
   "outputs": [
    {
     "data": {
      "text/html": [
       "<div>\n",
       "<style scoped>\n",
       "    .dataframe tbody tr th:only-of-type {\n",
       "        vertical-align: middle;\n",
       "    }\n",
       "\n",
       "    .dataframe tbody tr th {\n",
       "        vertical-align: top;\n",
       "    }\n",
       "\n",
       "    .dataframe thead th {\n",
       "        text-align: right;\n",
       "    }\n",
       "</style>\n",
       "<table border=\"1\" class=\"dataframe\">\n",
       "  <thead>\n",
       "    <tr style=\"text-align: right;\">\n",
       "      <th></th>\n",
       "      <th>eid</th>\n",
       "      <th>doi</th>\n",
       "      <th>pii</th>\n",
       "      <th>pubmed_id</th>\n",
       "      <th>title</th>\n",
       "      <th>subtype</th>\n",
       "      <th>subtypeDescription</th>\n",
       "      <th>creator</th>\n",
       "      <th>afid</th>\n",
       "      <th>affilname</th>\n",
       "      <th>...</th>\n",
       "      <th>description</th>\n",
       "      <th>authkeywords</th>\n",
       "      <th>citedby_count</th>\n",
       "      <th>openaccess</th>\n",
       "      <th>fund_acr</th>\n",
       "      <th>fund_no</th>\n",
       "      <th>fund_sponsor</th>\n",
       "      <th>topic</th>\n",
       "      <th>year</th>\n",
       "      <th>month</th>\n",
       "    </tr>\n",
       "  </thead>\n",
       "  <tbody>\n",
       "    <tr>\n",
       "      <th>0</th>\n",
       "      <td>2-s2.0-85104204626</td>\n",
       "      <td>10.1525/cse.2018.001552</td>\n",
       "      <td>NaN</td>\n",
       "      <td>NaN</td>\n",
       "      <td>Returning water data to communities in Ndola, ...</td>\n",
       "      <td>ar</td>\n",
       "      <td>Article</td>\n",
       "      <td>Chitondo M.</td>\n",
       "      <td>60020585</td>\n",
       "      <td>University of Canterbury</td>\n",
       "      <td>...</td>\n",
       "      <td>Many scientific research projects carried out ...</td>\n",
       "      <td>NaN</td>\n",
       "      <td>0</td>\n",
       "      <td>0</td>\n",
       "      <td>UC</td>\n",
       "      <td>undefined</td>\n",
       "      <td>University of Canterbury</td>\n",
       "      <td>DataScience</td>\n",
       "      <td>2019</td>\n",
       "      <td>December</td>\n",
       "    </tr>\n",
       "    <tr>\n",
       "      <th>1</th>\n",
       "      <td>2-s2.0-85104191635</td>\n",
       "      <td>10.1525/cse.2018.001578</td>\n",
       "      <td>NaN</td>\n",
       "      <td>NaN</td>\n",
       "      <td>Ignoring quantitative reasoning: The initial e...</td>\n",
       "      <td>ar</td>\n",
       "      <td>Article</td>\n",
       "      <td>Bothun G.D.</td>\n",
       "      <td>60012317</td>\n",
       "      <td>University of Oregon</td>\n",
       "      <td>...</td>\n",
       "      <td>The initial estimate of the flow rate of now l...</td>\n",
       "      <td>NaN</td>\n",
       "      <td>0</td>\n",
       "      <td>0</td>\n",
       "      <td>NaN</td>\n",
       "      <td>undefined</td>\n",
       "      <td>NaN</td>\n",
       "      <td>DataScience</td>\n",
       "      <td>2019</td>\n",
       "      <td>December</td>\n",
       "    </tr>\n",
       "    <tr>\n",
       "      <th>2</th>\n",
       "      <td>2-s2.0-85091697725</td>\n",
       "      <td>10.1093/poq/nfz050</td>\n",
       "      <td>NaN</td>\n",
       "      <td>NaN</td>\n",
       "      <td>Erratum: The polls-trends: Americans' trust in...</td>\n",
       "      <td>er</td>\n",
       "      <td>Erratum</td>\n",
       "      <td>Krause N.M.</td>\n",
       "      <td>NaN</td>\n",
       "      <td>NaN</td>\n",
       "      <td>...</td>\n",
       "      <td>In the article “The Polls-Trends: Americans' T...</td>\n",
       "      <td>NaN</td>\n",
       "      <td>0</td>\n",
       "      <td>0</td>\n",
       "      <td>NaN</td>\n",
       "      <td>undefined</td>\n",
       "      <td>NaN</td>\n",
       "      <td>DataScience</td>\n",
       "      <td>2019</td>\n",
       "      <td>December</td>\n",
       "    </tr>\n",
       "    <tr>\n",
       "      <th>3</th>\n",
       "      <td>2-s2.0-85091392304</td>\n",
       "      <td>10.22478/ufpb.1809-4783.2019v29n4.50113</td>\n",
       "      <td>NaN</td>\n",
       "      <td>NaN</td>\n",
       "      <td>Open access in question: New agendas and chall...</td>\n",
       "      <td>re</td>\n",
       "      <td>Review</td>\n",
       "      <td>Appel A.L.</td>\n",
       "      <td>60007639;60000036</td>\n",
       "      <td>Instituto Brasileiro de Informacao Em Ciencia ...</td>\n",
       "      <td>...</td>\n",
       "      <td>After almost twenty years of the Budapest Open...</td>\n",
       "      <td>Open access | Open science | Platforms | Schol...</td>\n",
       "      <td>0</td>\n",
       "      <td>1</td>\n",
       "      <td>FAPERJ</td>\n",
       "      <td>E-26/201.428/2014</td>\n",
       "      <td>Fundação Carlos Chagas Filho de Amparo à Pesqu...</td>\n",
       "      <td>DataScience</td>\n",
       "      <td>2019</td>\n",
       "      <td>December</td>\n",
       "    </tr>\n",
       "    <tr>\n",
       "      <th>4</th>\n",
       "      <td>2-s2.0-85091384820</td>\n",
       "      <td>10.22478/ufpb.1809-4783.2019v29n4.47536</td>\n",
       "      <td>NaN</td>\n",
       "      <td>NaN</td>\n",
       "      <td>Interdisciplinarity in data science over big d...</td>\n",
       "      <td>ar</td>\n",
       "      <td>Article</td>\n",
       "      <td>Pinto V.A.</td>\n",
       "      <td>60033296;60008088;60006429;60000036</td>\n",
       "      <td>Universidade FUMEC;Universidade de Sao Paulo -...</td>\n",
       "      <td>...</td>\n",
       "      <td>Data Science and Big Data are leveraged by bus...</td>\n",
       "      <td>Big data | Data science | Interdisciplinarity ...</td>\n",
       "      <td>0</td>\n",
       "      <td>1</td>\n",
       "      <td>NaN</td>\n",
       "      <td>undefined</td>\n",
       "      <td>NaN</td>\n",
       "      <td>DataScience</td>\n",
       "      <td>2019</td>\n",
       "      <td>December</td>\n",
       "    </tr>\n",
       "  </tbody>\n",
       "</table>\n",
       "<p>5 rows × 37 columns</p>\n",
       "</div>"
      ],
      "text/plain": [
       "                  eid                                      doi  pii  \\\n",
       "0  2-s2.0-85104204626                  10.1525/cse.2018.001552  NaN   \n",
       "1  2-s2.0-85104191635                  10.1525/cse.2018.001578  NaN   \n",
       "2  2-s2.0-85091697725                       10.1093/poq/nfz050  NaN   \n",
       "3  2-s2.0-85091392304  10.22478/ufpb.1809-4783.2019v29n4.50113  NaN   \n",
       "4  2-s2.0-85091384820  10.22478/ufpb.1809-4783.2019v29n4.47536  NaN   \n",
       "\n",
       "   pubmed_id                                              title subtype  \\\n",
       "0        NaN  Returning water data to communities in Ndola, ...      ar   \n",
       "1        NaN  Ignoring quantitative reasoning: The initial e...      ar   \n",
       "2        NaN  Erratum: The polls-trends: Americans' trust in...      er   \n",
       "3        NaN  Open access in question: New agendas and chall...      re   \n",
       "4        NaN  Interdisciplinarity in data science over big d...      ar   \n",
       "\n",
       "  subtypeDescription      creator                                 afid  \\\n",
       "0            Article  Chitondo M.                             60020585   \n",
       "1            Article  Bothun G.D.                             60012317   \n",
       "2            Erratum  Krause N.M.                                  NaN   \n",
       "3             Review   Appel A.L.                    60007639;60000036   \n",
       "4            Article   Pinto V.A.  60033296;60008088;60006429;60000036   \n",
       "\n",
       "                                           affilname  ...  \\\n",
       "0                           University of Canterbury  ...   \n",
       "1                               University of Oregon  ...   \n",
       "2                                                NaN  ...   \n",
       "3  Instituto Brasileiro de Informacao Em Ciencia ...  ...   \n",
       "4  Universidade FUMEC;Universidade de Sao Paulo -...  ...   \n",
       "\n",
       "                                         description  \\\n",
       "0  Many scientific research projects carried out ...   \n",
       "1  The initial estimate of the flow rate of now l...   \n",
       "2  In the article “The Polls-Trends: Americans' T...   \n",
       "3  After almost twenty years of the Budapest Open...   \n",
       "4  Data Science and Big Data are leveraged by bus...   \n",
       "\n",
       "                                        authkeywords  citedby_count  \\\n",
       "0                                                NaN              0   \n",
       "1                                                NaN              0   \n",
       "2                                                NaN              0   \n",
       "3  Open access | Open science | Platforms | Schol...              0   \n",
       "4  Big data | Data science | Interdisciplinarity ...              0   \n",
       "\n",
       "  openaccess fund_acr            fund_no  \\\n",
       "0          0       UC          undefined   \n",
       "1          0      NaN          undefined   \n",
       "2          0      NaN          undefined   \n",
       "3          1   FAPERJ  E-26/201.428/2014   \n",
       "4          1      NaN          undefined   \n",
       "\n",
       "                                        fund_sponsor        topic  year  \\\n",
       "0                           University of Canterbury  DataScience  2019   \n",
       "1                                                NaN  DataScience  2019   \n",
       "2                                                NaN  DataScience  2019   \n",
       "3  Fundação Carlos Chagas Filho de Amparo à Pesqu...  DataScience  2019   \n",
       "4                                                NaN  DataScience  2019   \n",
       "\n",
       "      month  \n",
       "0  December  \n",
       "1  December  \n",
       "2  December  \n",
       "3  December  \n",
       "4  December  \n",
       "\n",
       "[5 rows x 37 columns]"
      ]
     },
     "execution_count": 161,
     "metadata": {},
     "output_type": "execute_result"
    }
   ],
   "source": [
    "df[\"month\"] = pd.to_datetime(df[\"coverDate\"]).dt.month_name()\n",
    "df.head()"
   ]
  },
  {
   "cell_type": "markdown",
   "metadata": {},
   "source": [
    "### Pregunta 3: ¿Cómo se comporta el número de publicaciones a lo largo de los meses y cómo esto varia del año 2019 al 2020?"
   ]
  },
  {
   "cell_type": "code",
   "execution_count": 162,
   "metadata": {},
   "outputs": [
    {
     "data": {
      "text/html": [
       "<div>\n",
       "<style scoped>\n",
       "    .dataframe tbody tr th:only-of-type {\n",
       "        vertical-align: middle;\n",
       "    }\n",
       "\n",
       "    .dataframe tbody tr th {\n",
       "        vertical-align: top;\n",
       "    }\n",
       "\n",
       "    .dataframe thead th {\n",
       "        text-align: right;\n",
       "    }\n",
       "</style>\n",
       "<table border=\"1\" class=\"dataframe\">\n",
       "  <thead>\n",
       "    <tr style=\"text-align: right;\">\n",
       "      <th></th>\n",
       "      <th>year</th>\n",
       "      <th>month</th>\n",
       "      <th>title</th>\n",
       "    </tr>\n",
       "  </thead>\n",
       "  <tbody>\n",
       "    <tr>\n",
       "      <th>0</th>\n",
       "      <td>2020</td>\n",
       "      <td>January</td>\n",
       "      <td>10679</td>\n",
       "    </tr>\n",
       "    <tr>\n",
       "      <th>1</th>\n",
       "      <td>2019</td>\n",
       "      <td>January</td>\n",
       "      <td>9709</td>\n",
       "    </tr>\n",
       "    <tr>\n",
       "      <th>2</th>\n",
       "      <td>2020</td>\n",
       "      <td>December</td>\n",
       "      <td>2752</td>\n",
       "    </tr>\n",
       "    <tr>\n",
       "      <th>3</th>\n",
       "      <td>2020</td>\n",
       "      <td>October</td>\n",
       "      <td>2154</td>\n",
       "    </tr>\n",
       "    <tr>\n",
       "      <th>4</th>\n",
       "      <td>2020</td>\n",
       "      <td>September</td>\n",
       "      <td>2138</td>\n",
       "    </tr>\n",
       "    <tr>\n",
       "      <th>5</th>\n",
       "      <td>2019</td>\n",
       "      <td>December</td>\n",
       "      <td>1998</td>\n",
       "    </tr>\n",
       "    <tr>\n",
       "      <th>6</th>\n",
       "      <td>2020</td>\n",
       "      <td>June</td>\n",
       "      <td>1989</td>\n",
       "    </tr>\n",
       "    <tr>\n",
       "      <th>7</th>\n",
       "      <td>2020</td>\n",
       "      <td>July</td>\n",
       "      <td>1916</td>\n",
       "    </tr>\n",
       "    <tr>\n",
       "      <th>8</th>\n",
       "      <td>2020</td>\n",
       "      <td>November</td>\n",
       "      <td>1887</td>\n",
       "    </tr>\n",
       "    <tr>\n",
       "      <th>9</th>\n",
       "      <td>2020</td>\n",
       "      <td>August</td>\n",
       "      <td>1849</td>\n",
       "    </tr>\n",
       "    <tr>\n",
       "      <th>10</th>\n",
       "      <td>2019</td>\n",
       "      <td>March</td>\n",
       "      <td>1669</td>\n",
       "    </tr>\n",
       "    <tr>\n",
       "      <th>11</th>\n",
       "      <td>2020</td>\n",
       "      <td>March</td>\n",
       "      <td>1632</td>\n",
       "    </tr>\n",
       "    <tr>\n",
       "      <th>12</th>\n",
       "      <td>2019</td>\n",
       "      <td>June</td>\n",
       "      <td>1629</td>\n",
       "    </tr>\n",
       "    <tr>\n",
       "      <th>13</th>\n",
       "      <td>2019</td>\n",
       "      <td>September</td>\n",
       "      <td>1621</td>\n",
       "    </tr>\n",
       "    <tr>\n",
       "      <th>14</th>\n",
       "      <td>2019</td>\n",
       "      <td>November</td>\n",
       "      <td>1588</td>\n",
       "    </tr>\n",
       "    <tr>\n",
       "      <th>15</th>\n",
       "      <td>2019</td>\n",
       "      <td>October</td>\n",
       "      <td>1566</td>\n",
       "    </tr>\n",
       "    <tr>\n",
       "      <th>16</th>\n",
       "      <td>2019</td>\n",
       "      <td>July</td>\n",
       "      <td>1546</td>\n",
       "    </tr>\n",
       "    <tr>\n",
       "      <th>17</th>\n",
       "      <td>2020</td>\n",
       "      <td>April</td>\n",
       "      <td>1538</td>\n",
       "    </tr>\n",
       "    <tr>\n",
       "      <th>18</th>\n",
       "      <td>2020</td>\n",
       "      <td>May</td>\n",
       "      <td>1466</td>\n",
       "    </tr>\n",
       "    <tr>\n",
       "      <th>19</th>\n",
       "      <td>2019</td>\n",
       "      <td>May</td>\n",
       "      <td>1358</td>\n",
       "    </tr>\n",
       "    <tr>\n",
       "      <th>20</th>\n",
       "      <td>2019</td>\n",
       "      <td>April</td>\n",
       "      <td>1341</td>\n",
       "    </tr>\n",
       "    <tr>\n",
       "      <th>21</th>\n",
       "      <td>2020</td>\n",
       "      <td>February</td>\n",
       "      <td>1214</td>\n",
       "    </tr>\n",
       "    <tr>\n",
       "      <th>22</th>\n",
       "      <td>2019</td>\n",
       "      <td>February</td>\n",
       "      <td>1181</td>\n",
       "    </tr>\n",
       "    <tr>\n",
       "      <th>23</th>\n",
       "      <td>2019</td>\n",
       "      <td>August</td>\n",
       "      <td>1153</td>\n",
       "    </tr>\n",
       "  </tbody>\n",
       "</table>\n",
       "</div>"
      ],
      "text/plain": [
       "    year      month  title\n",
       "0   2020    January  10679\n",
       "1   2019    January   9709\n",
       "2   2020   December   2752\n",
       "3   2020    October   2154\n",
       "4   2020  September   2138\n",
       "5   2019   December   1998\n",
       "6   2020       June   1989\n",
       "7   2020       July   1916\n",
       "8   2020   November   1887\n",
       "9   2020     August   1849\n",
       "10  2019      March   1669\n",
       "11  2020      March   1632\n",
       "12  2019       June   1629\n",
       "13  2019  September   1621\n",
       "14  2019   November   1588\n",
       "15  2019    October   1566\n",
       "16  2019       July   1546\n",
       "17  2020      April   1538\n",
       "18  2020        May   1466\n",
       "19  2019        May   1358\n",
       "20  2019      April   1341\n",
       "21  2020   February   1214\n",
       "22  2019   February   1181\n",
       "23  2019     August   1153"
      ]
     },
     "execution_count": 162,
     "metadata": {},
     "output_type": "execute_result"
    }
   ],
   "source": [
    "groupby_month = df[[\"month\", \"year\", \"title\"]].groupby([\"year\", \"month\"]).count().sort_values(by=\"title\", ascending=False).reset_index()\n",
    "groupby_month"
   ]
  },
  {
   "cell_type": "code",
   "execution_count": 164,
   "metadata": {},
   "outputs": [
    {
     "data": {
      "text/plain": [
       "Text(0.5, 1.0, 'Número de papers por mes')"
      ]
     },
     "execution_count": 164,
     "metadata": {},
     "output_type": "execute_result"
    },
    {
     "data": {
      "image/png": "[encoded data removed]",
      "text/plain": [
       "<Figure size 432x288 with 1 Axes>"
      ]
     },
     "metadata": {
      "needs_background": "light"
     },
     "output_type": "display_data"
    }
   ],
   "source": [
    "sns.barplot(data=groupby_month, x=\"title\", y=\"month\", hue=\"year\")\n",
    "plt.xlabel(\"count\")\n",
    "plt.title(\"Número de papers por mes\")"
   ]
  },
  {
   "cell_type": "markdown",
   "metadata": {},
   "source": [
    "Respuesta(s): <br/>\n",
    "Del año 2019 al 2020 existe un incremento en la producción de papers. Adicionalmente, se puede observar como Enero es el mes de mayor producción durante los 2 años , mientras que el resto de meses mantienen una produccion similar con un valor alrededor de las 2000 publicaciones por mes."
   ]
  },
  {
   "cell_type": "markdown",
   "metadata": {},
   "source": [
    "## Análisis de variables numéricas"
   ]
  },
  {
   "cell_type": "code",
   "execution_count": 9,
   "metadata": {},
   "outputs": [
    {
     "data": {
      "text/html": [
       "<div>\n",
       "<style scoped>\n",
       "    .dataframe tbody tr th:only-of-type {\n",
       "        vertical-align: middle;\n",
       "    }\n",
       "\n",
       "    .dataframe tbody tr th {\n",
       "        vertical-align: top;\n",
       "    }\n",
       "\n",
       "    .dataframe thead th {\n",
       "        text-align: right;\n",
       "    }\n",
       "</style>\n",
       "<table border=\"1\" class=\"dataframe\">\n",
       "  <thead>\n",
       "    <tr style=\"text-align: right;\">\n",
       "      <th></th>\n",
       "      <th>pubmed_id</th>\n",
       "      <th>author_count</th>\n",
       "      <th>source_id</th>\n",
       "      <th>citedby_count</th>\n",
       "      <th>openaccess</th>\n",
       "      <th>year</th>\n",
       "    </tr>\n",
       "  </thead>\n",
       "  <tbody>\n",
       "    <tr>\n",
       "      <th>count</th>\n",
       "      <td>1.694500e+04</td>\n",
       "      <td>56690.000000</td>\n",
       "      <td>5.757100e+04</td>\n",
       "      <td>57573.000000</td>\n",
       "      <td>57573.000000</td>\n",
       "      <td>57573.000000</td>\n",
       "    </tr>\n",
       "    <tr>\n",
       "      <th>mean</th>\n",
       "      <td>3.178742e+07</td>\n",
       "      <td>4.804216</td>\n",
       "      <td>1.015326e+10</td>\n",
       "      <td>4.543606</td>\n",
       "      <td>0.415351</td>\n",
       "      <td>2019.542164</td>\n",
       "    </tr>\n",
       "    <tr>\n",
       "      <th>std</th>\n",
       "      <td>9.212943e+05</td>\n",
       "      <td>5.416942</td>\n",
       "      <td>9.999914e+09</td>\n",
       "      <td>83.702690</td>\n",
       "      <td>0.492787</td>\n",
       "      <td>0.498223</td>\n",
       "    </tr>\n",
       "    <tr>\n",
       "      <th>min</th>\n",
       "      <td>2.267396e+07</td>\n",
       "      <td>1.000000</td>\n",
       "      <td>1.200100e+04</td>\n",
       "      <td>0.000000</td>\n",
       "      <td>0.000000</td>\n",
       "      <td>2019.000000</td>\n",
       "    </tr>\n",
       "    <tr>\n",
       "      <th>25%</th>\n",
       "      <td>3.108726e+07</td>\n",
       "      <td>2.000000</td>\n",
       "      <td>2.493950e+04</td>\n",
       "      <td>0.000000</td>\n",
       "      <td>0.000000</td>\n",
       "      <td>2019.000000</td>\n",
       "    </tr>\n",
       "    <tr>\n",
       "      <th>50%</th>\n",
       "      <td>3.178054e+07</td>\n",
       "      <td>4.000000</td>\n",
       "      <td>5.800170e+09</td>\n",
       "      <td>1.000000</td>\n",
       "      <td>0.000000</td>\n",
       "      <td>2020.000000</td>\n",
       "    </tr>\n",
       "    <tr>\n",
       "      <th>75%</th>\n",
       "      <td>3.255278e+07</td>\n",
       "      <td>6.000000</td>\n",
       "      <td>2.110041e+10</td>\n",
       "      <td>4.000000</td>\n",
       "      <td>1.000000</td>\n",
       "      <td>2020.000000</td>\n",
       "    </tr>\n",
       "    <tr>\n",
       "      <th>max</th>\n",
       "      <td>3.416510e+07</td>\n",
       "      <td>100.000000</td>\n",
       "      <td>2.110105e+10</td>\n",
       "      <td>16483.000000</td>\n",
       "      <td>1.000000</td>\n",
       "      <td>2020.000000</td>\n",
       "    </tr>\n",
       "  </tbody>\n",
       "</table>\n",
       "</div>"
      ],
      "text/plain": [
       "          pubmed_id  author_count     source_id  citedby_count    openaccess  \\\n",
       "count  1.694500e+04  56690.000000  5.757100e+04   57573.000000  57573.000000   \n",
       "mean   3.178742e+07      4.804216  1.015326e+10       4.543606      0.415351   \n",
       "std    9.212943e+05      5.416942  9.999914e+09      83.702690      0.492787   \n",
       "min    2.267396e+07      1.000000  1.200100e+04       0.000000      0.000000   \n",
       "25%    3.108726e+07      2.000000  2.493950e+04       0.000000      0.000000   \n",
       "50%    3.178054e+07      4.000000  5.800170e+09       1.000000      0.000000   \n",
       "75%    3.255278e+07      6.000000  2.110041e+10       4.000000      1.000000   \n",
       "max    3.416510e+07    100.000000  2.110105e+10   16483.000000      1.000000   \n",
       "\n",
       "               year  \n",
       "count  57573.000000  \n",
       "mean    2019.542164  \n",
       "std        0.498223  \n",
       "min     2019.000000  \n",
       "25%     2019.000000  \n",
       "50%     2020.000000  \n",
       "75%     2020.000000  \n",
       "max     2020.000000  "
      ]
     },
     "execution_count": 9,
     "metadata": {},
     "output_type": "execute_result"
    }
   ],
   "source": [
    "# Realizamos un revision preliminar sobre la informacion estadistica de nuestros datos numericos\n",
    "df.describe()"
   ]
  },
  {
   "cell_type": "code",
   "execution_count": 5,
   "metadata": {},
   "outputs": [
    {
     "data": {
      "text/plain": [
       "<AxesSubplot:xlabel='subtype', ylabel='author_count'>"
      ]
     },
     "execution_count": 5,
     "metadata": {},
     "output_type": "execute_result"
    },
    {
     "data": {
      "image/png": "[encoded data removed]",
      "text/plain": [
       "<Figure size 432x288 with 1 Axes>"
      ]
     },
     "metadata": {
      "needs_background": "light"
     },
     "output_type": "display_data"
    }
   ],
   "source": [
    "# Analizamos como se comporta la variable author_count respecto al tipo de documento y año de publicacion\n",
    "sns.boxplot(x='subtype',y='author_count',hue='year',data=df)"
   ]
  },
  {
   "cell_type": "code",
   "execution_count": 115,
   "metadata": {},
   "outputs": [
    {
     "data": {
      "text/plain": [
       "<AxesSubplot:xlabel='subtype', ylabel='author_count'>"
      ]
     },
     "execution_count": 115,
     "metadata": {},
     "output_type": "execute_result"
    },
    {
     "data": {
      "image/png": "[encoded data removed]",
      "text/plain": [
       "<Figure size 432x288 with 1 Axes>"
      ]
     },
     "metadata": {
      "needs_background": "light"
     },
     "output_type": "display_data"
    }
   ],
   "source": [
    "sns.boxplot(x='subtype',y='author_count',hue='year',data=df)"
   ]
  },
  {
   "cell_type": "markdown",
   "metadata": {},
   "source": [
    "<strong> Se puede observar que existe una gran cantidad de outliers en nuestro primer analisis exploratorio de datos <strong/>"
   ]
  },
  {
   "cell_type": "code",
   "execution_count": 71,
   "metadata": {},
   "outputs": [
    {
     "data": {
      "text/plain": [
       "<AxesSubplot:xlabel='subtype', ylabel='citedby_count'>"
      ]
     },
     "execution_count": 71,
     "metadata": {},
     "output_type": "execute_result"
    },
    {
     "data": {
      "image/png": "[encoded data removed]",
      "text/plain": [
       "<Figure size 432x288 with 1 Axes>"
      ]
     },
     "metadata": {
      "needs_background": "light"
     },
     "output_type": "display_data"
    }
   ],
   "source": [
    "#Analizamos como se comporta la variable citedby_count respecto al tipo de documento y año de publicacion\n",
    "sns.boxplot(x='subtype',y='citedby_count',hue='year',data=df)"
   ]
  },
  {
   "cell_type": "code",
   "execution_count": 14,
   "metadata": {},
   "outputs": [
    {
     "data": {
      "text/plain": [
       "<AxesSubplot:xlabel='aggregationType', ylabel='citedby_count'>"
      ]
     },
     "execution_count": 14,
     "metadata": {},
     "output_type": "execute_result"
    },
    {
     "data": {
      "image/png": "[encoded data removed]",
      "text/plain": [
       "<Figure size 432x288 with 1 Axes>"
      ]
     },
     "metadata": {
      "needs_background": "light"
     },
     "output_type": "display_data"
    }
   ],
   "source": [
    "sns.boxplot(x='aggregationType',y='citedby_count',hue='year',data=df)"
   ]
  },
  {
   "cell_type": "markdown",
   "metadata": {},
   "source": [
    "<strong>Para esta variable tambien se aprecia una cantidad considerable de outliers</strong>"
   ]
  },
  {
   "cell_type": "code",
   "execution_count": 118,
   "metadata": {},
   "outputs": [
    {
     "data": {
      "text/plain": [
       "<seaborn.axisgrid.FacetGrid at 0x1955e3b8>"
      ]
     },
     "execution_count": 118,
     "metadata": {},
     "output_type": "execute_result"
    },
    {
     "data": {
      "image/png": "[encoded data removed]",
      "text/plain": [
       "<Figure size 360x360 with 1 Axes>"
      ]
     },
     "metadata": {
      "needs_background": "light"
     },
     "output_type": "display_data"
    }
   ],
   "source": [
    "sns.displot(df['aggregationType'])"
   ]
  },
  {
   "cell_type": "markdown",
   "metadata": {},
   "source": [
    "<strong>El tipo de documento que mayor número de instancias tiene son los de tipo Journal</strong>"
   ]
  },
  {
   "cell_type": "code",
   "execution_count": 67,
   "metadata": {},
   "outputs": [
    {
     "data": {
      "text/plain": [
       "<seaborn.axisgrid.FacetGrid at 0x1957ac88>"
      ]
     },
     "execution_count": 67,
     "metadata": {},
     "output_type": "execute_result"
    },
    {
     "data": {
      "image/png": "[encoded data removed]",
      "text/plain": [
       "<Figure size 432x216 with 2 Axes>"
      ]
     },
     "metadata": {
      "needs_background": "light"
     },
     "output_type": "display_data"
    }
   ],
   "source": [
    "g=sns.FacetGrid(df,col='year')\n",
    "g.map(sns.histplot,'aggregationType')"
   ]
  },
  {
   "cell_type": "markdown",
   "metadata": {},
   "source": [
    "<strong>Los tipos de documentos siguen la misma distribución en los años 2019 y 2020, aunque presentan mayor cantidad en el año 2020</strong>"
   ]
  },
  {
   "cell_type": "code",
   "execution_count": 91,
   "metadata": {},
   "outputs": [
    {
     "data": {
      "text/plain": [
       "<seaborn.axisgrid.FacetGrid at 0x123b8628>"
      ]
     },
     "execution_count": 91,
     "metadata": {},
     "output_type": "execute_result"
    },
    {
     "data": {
      "image/png": "[encoded data removed]",
      "text/plain": [
       "<Figure size 360x360 with 1 Axes>"
      ]
     },
     "metadata": {
      "needs_background": "light"
     },
     "output_type": "display_data"
    }
   ],
   "source": [
    "sns.displot(df['subtype'])"
   ]
  },
  {
   "cell_type": "markdown",
   "metadata": {},
   "source": [
    "<strong>El subtipo de documento que mayor número de instancias tiene son los de tipo AR</strong>"
   ]
  },
  {
   "cell_type": "code",
   "execution_count": 68,
   "metadata": {},
   "outputs": [
    {
     "data": {
      "text/plain": [
       "<seaborn.axisgrid.FacetGrid at 0x1a3eae80>"
      ]
     },
     "execution_count": 68,
     "metadata": {},
     "output_type": "execute_result"
    },
    {
     "data": {
      "image/png": "[encoded data removed]",
      "text/plain": [
       "<Figure size 432x216 with 2 Axes>"
      ]
     },
     "metadata": {
      "needs_background": "light"
     },
     "output_type": "display_data"
    }
   ],
   "source": [
    "gr=sns.FacetGrid(df,col='year')\n",
    "gr.map(sns.histplot,'subtype')"
   ]
  },
  {
   "cell_type": "markdown",
   "metadata": {},
   "source": [
    "<strong>Los subtipos de documentos siguen la misma distribución en los años 2019 y 2020, aunque presentan mayor cantidad en el año 2020</strong>"
   ]
  },
  {
   "cell_type": "code",
   "execution_count": 88,
   "metadata": {},
   "outputs": [
    {
     "data": {
      "text/plain": [
       "<seaborn.axisgrid.FacetGrid at 0x5872dc0>"
      ]
     },
     "execution_count": 88,
     "metadata": {},
     "output_type": "execute_result"
    },
    {
     "data": {
      "image/png": "[encoded data removed]",
      "text/plain": [
       "<Figure size 432x216 with 2 Axes>"
      ]
     },
     "metadata": {
      "needs_background": "light"
     },
     "output_type": "display_data"
    }
   ],
   "source": [
    "g=sns.FacetGrid(df,col='openaccess')\n",
    "g.map(sns.histplot,'aggregationType')"
   ]
  },
  {
   "cell_type": "code",
   "execution_count": 89,
   "metadata": {},
   "outputs": [
    {
     "data": {
      "text/plain": [
       "<seaborn.axisgrid.FacetGrid at 0x5872c70>"
      ]
     },
     "execution_count": 89,
     "metadata": {},
     "output_type": "execute_result"
    },
    {
     "data": {
      "image/png": "[encoded data removed]",
      "text/plain": [
       "<Figure size 432x216 with 2 Axes>"
      ]
     },
     "metadata": {
      "needs_background": "light"
     },
     "output_type": "display_data"
    }
   ],
   "source": [
    "gr=sns.FacetGrid(df,col='openaccess')\n",
    "gr.map(sns.histplot,'subtype')"
   ]
  },
  {
   "cell_type": "markdown",
   "metadata": {},
   "source": [
    "<strong>Basado en la gran cantidad de outliers presentes en las variables numericas surgió el interés de conocer cual fue el paper más citado por año, asi se obtuvo el siguiente resultado <strong/>"
   ]
  },
  {
   "cell_type": "code",
   "execution_count": 160,
   "metadata": {},
   "outputs": [
    {
     "data": {
      "text/html": [
       "<div>\n",
       "<style scoped>\n",
       "    .dataframe tbody tr th:only-of-type {\n",
       "        vertical-align: middle;\n",
       "    }\n",
       "\n",
       "    .dataframe tbody tr th {\n",
       "        vertical-align: top;\n",
       "    }\n",
       "\n",
       "    .dataframe thead th {\n",
       "        text-align: right;\n",
       "    }\n",
       "</style>\n",
       "<table border=\"1\" class=\"dataframe\">\n",
       "  <thead>\n",
       "    <tr style=\"text-align: right;\">\n",
       "      <th></th>\n",
       "      <th>eid</th>\n",
       "      <th>doi</th>\n",
       "      <th>pii</th>\n",
       "      <th>pubmed_id</th>\n",
       "      <th>title</th>\n",
       "      <th>subtype</th>\n",
       "      <th>subtypeDescription</th>\n",
       "      <th>creator</th>\n",
       "      <th>afid</th>\n",
       "      <th>affilname</th>\n",
       "      <th>...</th>\n",
       "      <th>pageRange</th>\n",
       "      <th>description</th>\n",
       "      <th>authkeywords</th>\n",
       "      <th>citedby_count</th>\n",
       "      <th>openaccess</th>\n",
       "      <th>fund_acr</th>\n",
       "      <th>fund_no</th>\n",
       "      <th>fund_sponsor</th>\n",
       "      <th>topic</th>\n",
       "      <th>year</th>\n",
       "    </tr>\n",
       "  </thead>\n",
       "  <tbody>\n",
       "    <tr>\n",
       "      <th>7593</th>\n",
       "      <td>2-s2.0-85069676260</td>\n",
       "      <td>10.1038/s41587-019-0209-9</td>\n",
       "      <td>NaN</td>\n",
       "      <td>31341288.0</td>\n",
       "      <td>Reproducible, interactive, scalable and extens...</td>\n",
       "      <td>le</td>\n",
       "      <td>Letter</td>\n",
       "      <td>Bolyen E.</td>\n",
       "      <td>60159889;60121672;60121653;60121598;60121568;6...</td>\n",
       "      <td>ANU Research School of Biology;Center for Micr...</td>\n",
       "      <td>...</td>\n",
       "      <td>852-857</td>\n",
       "      <td>NaN</td>\n",
       "      <td>NaN</td>\n",
       "      <td>1863</td>\n",
       "      <td>0</td>\n",
       "      <td>NSF</td>\n",
       "      <td>APP1085372</td>\n",
       "      <td>National Science Foundation</td>\n",
       "      <td>DataScience</td>\n",
       "      <td>2019</td>\n",
       "    </tr>\n",
       "    <tr>\n",
       "      <th>45899</th>\n",
       "      <td>2-s2.0-85078262578</td>\n",
       "      <td>10.1016/S0140-6736(20)30183-5</td>\n",
       "      <td>S0140673620301835</td>\n",
       "      <td>31986264.0</td>\n",
       "      <td>Clinical features of patients infected with 20...</td>\n",
       "      <td>ar</td>\n",
       "      <td>Article</td>\n",
       "      <td>Huang C.</td>\n",
       "      <td>60122793;60122792;60122781;60122389;60121987;6...</td>\n",
       "      <td>Institute of Laboratory Animal Sciences, Chine...</td>\n",
       "      <td>...</td>\n",
       "      <td>497-506</td>\n",
       "      <td>Background: A recent cluster of pneumonia case...</td>\n",
       "      <td>NaN</td>\n",
       "      <td>16483</td>\n",
       "      <td>1</td>\n",
       "      <td>MOST</td>\n",
       "      <td>CIFMS 2018-I2M-1-003</td>\n",
       "      <td>Ministry of Science and Technology of the Peop...</td>\n",
       "      <td>DataScience</td>\n",
       "      <td>2020</td>\n",
       "    </tr>\n",
       "  </tbody>\n",
       "</table>\n",
       "<p>2 rows × 36 columns</p>\n",
       "</div>"
      ],
      "text/plain": [
       "                      eid                            doi                pii  \\\n",
       "7593   2-s2.0-85069676260      10.1038/s41587-019-0209-9                NaN   \n",
       "45899  2-s2.0-85078262578  10.1016/S0140-6736(20)30183-5  S0140673620301835   \n",
       "\n",
       "        pubmed_id                                              title subtype  \\\n",
       "7593   31341288.0  Reproducible, interactive, scalable and extens...      le   \n",
       "45899  31986264.0  Clinical features of patients infected with 20...      ar   \n",
       "\n",
       "      subtypeDescription    creator  \\\n",
       "7593              Letter  Bolyen E.   \n",
       "45899            Article   Huang C.   \n",
       "\n",
       "                                                    afid  \\\n",
       "7593   60159889;60121672;60121653;60121598;60121568;6...   \n",
       "45899  60122793;60122792;60122781;60122389;60121987;6...   \n",
       "\n",
       "                                               affilname  ... pageRange  \\\n",
       "7593   ANU Research School of Biology;Center for Micr...  ...   852-857   \n",
       "45899  Institute of Laboratory Animal Sciences, Chine...  ...   497-506   \n",
       "\n",
       "                                             description  authkeywords  \\\n",
       "7593                                                 NaN           NaN   \n",
       "45899  Background: A recent cluster of pneumonia case...           NaN   \n",
       "\n",
       "      citedby_count openaccess fund_acr               fund_no  \\\n",
       "7593           1863          0      NSF            APP1085372   \n",
       "45899         16483          1     MOST  CIFMS 2018-I2M-1-003   \n",
       "\n",
       "                                            fund_sponsor        topic  year  \n",
       "7593                         National Science Foundation  DataScience  2019  \n",
       "45899  Ministry of Science and Technology of the Peop...  DataScience  2020  \n",
       "\n",
       "[2 rows x 36 columns]"
      ]
     },
     "execution_count": 160,
     "metadata": {},
     "output_type": "execute_result"
    }
   ],
   "source": [
    "indices=df.groupby(['year'])['citedby_count'].transform(max)==df['citedby_count']\n",
    "df[indices]"
   ]
  },
  {
   "cell_type": "markdown",
   "metadata": {},
   "source": [
    "<strong>Como se observa en el año 2020 el paper más citado fue 'Clinical features of patients infected with 2019 novel coronavirus in Wuhan, China (thelancet.com)', un tema que se ha vuelto popular debido a la pandemia del COVID-19 y que supera en gran medida el número de citas realizadas respecto al año anterior <strong/>"
   ]
  }
 ],
 "metadata": {
  "kernelspec": {
   "display_name": "Python 3",
   "language": "python",
   "name": "python3"
  },
  "language_info": {
   "codemirror_mode": {
    "name": "ipython",
    "version": 3
   },
   "file_extension": ".py",
   "mimetype": "text/x-python",
   "name": "python",
   "nbconvert_exporter": "python",
   "pygments_lexer": "ipython3",
   "version": "3.8.3"
  }
 },
 "nbformat": 4,
 "nbformat_minor": 4
}
